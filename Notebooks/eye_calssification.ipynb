{
  "cells": [
    {
      "cell_type": "markdown",
      "source": [
        "# Import Dependencies"
      ],
      "metadata": {
        "id": "Df_AOKsx2oUZ"
      },
      "id": "Df_AOKsx2oUZ"
    },
    {
      "cell_type": "code",
      "execution_count": null,
      "metadata": {
        "id": "H5ZKhBGqGjDO"
      },
      "outputs": [],
      "source": [
        "import tensorflow as tf\n",
        "import os\n",
        "import matplotlib.pyplot as plt\n",
        "import numpy as np\n",
        "import cv2\n",
        "import imghdr"
      ],
      "id": "H5ZKhBGqGjDO"
    },
    {
      "cell_type": "code",
      "execution_count": null,
      "metadata": {
        "id": "5ys4QMK1GCTz",
        "colab": {
          "base_uri": "https://localhost:8080/"
        },
        "outputId": "73a9a9f3-6946-4991-c79c-c4a132767924"
      },
      "outputs": [
        {
          "output_type": "stream",
          "name": "stdout",
          "text": [
            "Drive already mounted at /content/drive; to attempt to forcibly remount, call drive.mount(\"/content/drive\", force_remount=True).\n"
          ]
        }
      ],
      "source": [
        "from google.colab import drive\n",
        "drive.mount('/content/drive')"
      ],
      "id": "5ys4QMK1GCTz"
    },
    {
      "cell_type": "code",
      "execution_count": null,
      "metadata": {
        "id": "crhPIcC5HuU9"
      },
      "outputs": [],
      "source": [
        "gpus =  tf.config.experimental.list_physical_devices('GPU')\n",
        "for gpu in gpus:\n",
        "  tf.config.experimental.set_memory_growth(gpu, True)"
      ],
      "id": "crhPIcC5HuU9"
    },
    {
      "cell_type": "code",
      "execution_count": null,
      "metadata": {
        "id": "_eveXGsOOCfh",
        "colab": {
          "base_uri": "https://localhost:8080/"
        },
        "outputId": "ee49d7f4-25a4-4b05-be4d-cdd1636cdecf"
      },
      "outputs": [
        {
          "output_type": "stream",
          "name": "stdout",
          "text": [
            "Green ok: 123 samples\n",
            "Brown ok: 124 samples\n",
            "Blue: 197 samples\n"
          ]
        }
      ],
      "source": [
        "data_dir = 'drive/MyDrive/Training/Datasets/color_eye_classification'\n",
        "def number_samples(data_dir = data_dir):\n",
        "  for i in os.listdir(data_dir):\n",
        "    categorie = os.listdir(os.path.join(data_dir, i))\n",
        "    print(f'{i}: {len(categorie)} samples')\n",
        "number_samples()"
      ],
      "id": "_eveXGsOOCfh"
    },
    {
      "cell_type": "code",
      "source": [
        "image_exts = ['jpeg', 'jpg', 'png', 'bmp']\n",
        "image_calss = os.listdir(data_dir)"
      ],
      "metadata": {
        "id": "WPDhgQ1OoeMH"
      },
      "id": "WPDhgQ1OoeMH",
      "execution_count": null,
      "outputs": []
    },
    {
      "cell_type": "code",
      "source": [
        "def Remove_outliers(data_dir = data_dir):\n",
        "  for image_class in os.listdir(data_dir):\n",
        "      class_dir = os.path.join(data_dir, image_class)\n",
        "      if os.path.isdir(class_dir):\n",
        "          for image in os.listdir(class_dir):\n",
        "              image_path = os.path.join(class_dir, image)\n",
        "              try:\n",
        "                  img = cv2.imread(image_path)\n",
        "                  img_extension = imghdr.what(image_path)\n",
        "                  if img_extension not in image_exts:\n",
        "                      print('Image not in ext list: {}'.format(image_path))\n",
        "                      os.remove(image_path)\n",
        "              except Exception as e:\n",
        "                  print('Issue with image {}: {}'.format(image_path, str(e)))"
      ],
      "metadata": {
        "id": "eJ3w_X-Mo1aY"
      },
      "id": "eJ3w_X-Mo1aY",
      "execution_count": null,
      "outputs": []
    },
    {
      "cell_type": "code",
      "source": [
        "Remove_outliers()"
      ],
      "metadata": {
        "colab": {
          "base_uri": "https://localhost:8080/"
        },
        "id": "7cmFd0m7o1X4",
        "outputId": "329b7adf-e388-46e0-d719-b547f77d0666"
      },
      "id": "7cmFd0m7o1X4",
      "execution_count": null,
      "outputs": [
        {
          "output_type": "stream",
          "name": "stdout",
          "text": [
            "Image not in ext list: drive/MyDrive/Training/Datasets/color_eye_classification/Brown ok/vector7.svg\n",
            "Image not in ext list: drive/MyDrive/Training/Datasets/color_eye_classification/Brown ok/vector8.svg\n",
            "Image not in ext list: drive/MyDrive/Training/Datasets/color_eye_classification/Brown ok/vector6.svg\n",
            "Image not in ext list: drive/MyDrive/Training/Datasets/color_eye_classification/Brown ok/vector9.svg\n",
            "Image not in ext list: drive/MyDrive/Training/Datasets/color_eye_classification/Brown ok/vector4.svg\n",
            "Image not in ext list: drive/MyDrive/Training/Datasets/color_eye_classification/Brown ok/vector3.svg\n",
            "Image not in ext list: drive/MyDrive/Training/Datasets/color_eye_classification/Brown ok/vector5.svg\n",
            "Image not in ext list: drive/MyDrive/Training/Datasets/color_eye_classification/Brown ok/vector10.svg\n",
            "Image not in ext list: drive/MyDrive/Training/Datasets/color_eye_classification/Brown ok/vector12.svg\n",
            "Image not in ext list: drive/MyDrive/Training/Datasets/color_eye_classification/Brown ok/vector2.svg\n",
            "Image not in ext list: drive/MyDrive/Training/Datasets/color_eye_classification/Brown ok/vector13.svg\n",
            "Image not in ext list: drive/MyDrive/Training/Datasets/color_eye_classification/Brown ok/vector11.svg\n",
            "Image not in ext list: drive/MyDrive/Training/Datasets/color_eye_classification/Brown ok/vector.svg\n",
            "Image not in ext list: drive/MyDrive/Training/Datasets/color_eye_classification/Brown ok/main-qimg-8bf04dea30852215f5ed5d3da5be2877.webp\n",
            "Image not in ext list: drive/MyDrive/Training/Datasets/color_eye_classification/Brown ok/Eye-Color-Change-1419760033-770x533-1.jpg\n",
            "Image not in ext list: drive/MyDrive/Training/Datasets/color_eye_classification/Brown ok/man_eye_closeup-732x549-thumbnail-732x549.jpg\n",
            "Image not in ext list: drive/MyDrive/Training/Datasets/color_eye_classification/Brown ok/766x415_-How_to_Change_Your_Eye_Color-732x415.jpg\n",
            "Image not in ext list: drive/MyDrive/Training/Datasets/color_eye_classification/Brown ok/Woman-Eye-732x549-thumbnail-732x549.jpg\n",
            "Image not in ext list: drive/MyDrive/Training/Datasets/color_eye_classification/Brown ok/hazel-vs-brown-eyes.jpg\n",
            "Image not in ext list: drive/MyDrive/Training/Datasets/color_eye_classification/Brown ok/blog-latest-brow-trends.jpg\n",
            "Image not in ext list: drive/MyDrive/Training/Datasets/color_eye_classification/Brown ok/shutterstock-394292725.jpg\n",
            "Image not in ext list: drive/MyDrive/Training/Datasets/color_eye_classification/Brown ok/shutterstock-208453411.jpg\n",
            "Image not in ext list: drive/MyDrive/Training/Datasets/color_eye_classification/Brown ok/PRI_87073729.jpg\n",
            "Image not in ext list: drive/MyDrive/Training/Datasets/color_eye_classification/Blue/Web-Blue-eyes-Getty.jpg\n",
            "Image not in ext list: drive/MyDrive/Training/Datasets/color_eye_classification/Blue/4884-Close-up_of_a_blue_eye_with_yellow_center-732x549-thumbnail-732x549.jpg\n",
            "Image not in ext list: drive/MyDrive/Training/Datasets/color_eye_classification/Blue/220px-Blue_eye_2.jpg\n",
            "Image not in ext list: drive/MyDrive/Training/Datasets/color_eye_classification/Blue/Blue-eye.jpg\n",
            "Image not in ext list: drive/MyDrive/Training/Datasets/color_eye_classification/Blue/1_Cropped-Image-Of-Human-Eye.jpg\n",
            "Image not in ext list: drive/MyDrive/Training/Datasets/color_eye_classification/Blue/c1ccb05b9991c9794644dab841.jpg\n",
            "Image not in ext list: drive/MyDrive/Training/Datasets/color_eye_classification/Blue/3e18bfe7825bd71ea49297c22d27f0dd.jpg\n",
            "Image not in ext list: drive/MyDrive/Training/Datasets/color_eye_classification/Blue/Woman-Eye-1200x628-facebook-1200x628.jpg\n",
            "Image not in ext list: drive/MyDrive/Training/Datasets/color_eye_classification/Blue/blue-eyes2.jpg\n",
            "Image not in ext list: drive/MyDrive/Training/Datasets/color_eye_classification/Blue/shutterstock-128857243.jpg\n"
          ]
        }
      ]
    },
    {
      "cell_type": "markdown",
      "metadata": {
        "id": "iYFFGjqpMC3V"
      },
      "source": [
        "# Load Data"
      ],
      "id": "iYFFGjqpMC3V"
    },
    {
      "cell_type": "code",
      "execution_count": null,
      "metadata": {
        "id": "iWpWtzHUOCh6",
        "colab": {
          "base_uri": "https://localhost:8080/"
        },
        "outputId": "c899f098-f90c-4dad-dff0-eba511fde308"
      },
      "outputs": [
        {
          "output_type": "stream",
          "name": "stdout",
          "text": [
            "Found 444 files belonging to 3 classes.\n"
          ]
        }
      ],
      "source": [
        "data = tf.keras.utils.image_dataset_from_directory(data_dir,\n",
        "                                                   image_size=(256, 256),\n",
        "                                                   batch_size=32,\n",
        "                                                   label_mode='categorical')"
      ],
      "id": "iWpWtzHUOCh6"
    },
    {
      "cell_type": "markdown",
      "metadata": {
        "id": "-PZFeKPVv9FP"
      },
      "source": [
        "# Preprocessing"
      ],
      "id": "-PZFeKPVv9FP"
    },
    {
      "cell_type": "code",
      "execution_count": null,
      "metadata": {
        "id": "mWOtbatrpHpq"
      },
      "outputs": [],
      "source": [
        "#Scale Data\n",
        "data = data.map(lambda x,y: (x/255, y))"
      ],
      "id": "mWOtbatrpHpq"
    },
    {
      "cell_type": "code",
      "execution_count": null,
      "metadata": {
        "id": "txW0q7tzlmY5"
      },
      "outputs": [],
      "source": [
        "data_iterator = data.as_numpy_iterator()\n",
        "batch = data_iterator.next()"
      ],
      "id": "txW0q7tzlmY5"
    },
    {
      "cell_type": "code",
      "execution_count": null,
      "metadata": {
        "id": "bIWZkF6alp1J"
      },
      "outputs": [],
      "source": [
        "train_size = int(len(data) * 0.7)\n",
        "val_size   = int(len(data) * 0.2) + 1\n",
        "test_size  = int(len(data) * 0.1) + 1"
      ],
      "id": "bIWZkF6alp1J"
    },
    {
      "cell_type": "code",
      "execution_count": null,
      "metadata": {
        "id": "hjFWVtnjpmaW"
      },
      "outputs": [],
      "source": [
        "train = data.take(train_size)\n",
        "val   = data.skip(train_size).take(val_size)\n",
        "test  = data.skip(train_size + val_size).take(test_size)"
      ],
      "id": "hjFWVtnjpmaW"
    },
    {
      "cell_type": "markdown",
      "metadata": {
        "id": "rc-THkL68RVy"
      },
      "source": [
        "# The model\n"
      ],
      "id": "rc-THkL68RVy"
    },
    {
      "cell_type": "code",
      "execution_count": null,
      "metadata": {
        "id": "Dcn3akaspmTj"
      },
      "outputs": [],
      "source": [
        "from tensorflow.keras.models import Sequential\n",
        "from tensorflow.keras.layers import Conv2D, MaxPooling2D, Flatten, Dense, BatchNormalization, Dropout"
      ],
      "id": "Dcn3akaspmTj"
    },
    {
      "cell_type": "code",
      "execution_count": null,
      "metadata": {
        "id": "A0cN-SAn5-fj"
      },
      "outputs": [],
      "source": [
        "#Create the model\n",
        "model = Sequential()\n",
        "\n",
        "model.add(Conv2D(16, (3,3), 1 , activation='relu', input_shape = (256, 256, 3)))\n",
        "model.add(MaxPooling2D())\n",
        "\n",
        "model.add(Conv2D(32, (3,3), 1 , activation= 'relu'))\n",
        "model.add(MaxPooling2D())\n",
        "\n",
        "model.add(Conv2D(16, (3,3), 1 , activation= 'relu'))\n",
        "model.add(MaxPooling2D())\n",
        "\n",
        "model.add(Flatten())\n",
        "\n",
        "model.add(Dense(256, activation='relu'))\n",
        "model.add(Dense(3, activation='softmax'))\n",
        "\n",
        "model.compile(\n",
        "    optimizer='adam',\n",
        "    loss=tf.losses.CategoricalCrossentropy(),\n",
        "    metrics = ['accuracy'])"
      ],
      "id": "A0cN-SAn5-fj"
    },
    {
      "cell_type": "code",
      "execution_count": null,
      "metadata": {
        "id": "TkQHHLBiEzg4",
        "colab": {
          "base_uri": "https://localhost:8080/"
        },
        "outputId": "1a90c817-cb44-452a-b799-fcf77d85d2a6"
      },
      "outputs": [
        {
          "output_type": "stream",
          "name": "stdout",
          "text": [
            "Model: \"sequential_3\"\n",
            "_________________________________________________________________\n",
            " Layer (type)                Output Shape              Param #   \n",
            "=================================================================\n",
            " conv2d_9 (Conv2D)           (None, 254, 254, 16)      448       \n",
            "                                                                 \n",
            " max_pooling2d_9 (MaxPoolin  (None, 127, 127, 16)      0         \n",
            " g2D)                                                            \n",
            "                                                                 \n",
            " conv2d_10 (Conv2D)          (None, 125, 125, 32)      4640      \n",
            "                                                                 \n",
            " max_pooling2d_10 (MaxPooli  (None, 62, 62, 32)        0         \n",
            " ng2D)                                                           \n",
            "                                                                 \n",
            " conv2d_11 (Conv2D)          (None, 60, 60, 16)        4624      \n",
            "                                                                 \n",
            " max_pooling2d_11 (MaxPooli  (None, 30, 30, 16)        0         \n",
            " ng2D)                                                           \n",
            "                                                                 \n",
            " flatten_3 (Flatten)         (None, 14400)             0         \n",
            "                                                                 \n",
            " dense_6 (Dense)             (None, 256)               3686656   \n",
            "                                                                 \n",
            " dense_7 (Dense)             (None, 3)                 771       \n",
            "                                                                 \n",
            "=================================================================\n",
            "Total params: 3697139 (14.10 MB)\n",
            "Trainable params: 3697139 (14.10 MB)\n",
            "Non-trainable params: 0 (0.00 Byte)\n",
            "_________________________________________________________________\n"
          ]
        }
      ],
      "source": [
        "model.summary()"
      ],
      "id": "TkQHHLBiEzg4"
    },
    {
      "cell_type": "code",
      "source": [
        "history = model.fit(train, epochs=20, validation_data=val)"
      ],
      "metadata": {
        "colab": {
          "base_uri": "https://localhost:8080/"
        },
        "id": "aFXV5w-jplEn",
        "outputId": "4fb26ee2-9161-4ce9-fcb2-37422661ee8e"
      },
      "id": "aFXV5w-jplEn",
      "execution_count": null,
      "outputs": [
        {
          "output_type": "stream",
          "name": "stdout",
          "text": [
            "Epoch 1/20\n",
            "9/9 [==============================] - 17s 390ms/step - loss: 1.6399 - accuracy: 0.3125 - val_loss: 1.0735 - val_accuracy: 0.4062\n",
            "Epoch 2/20\n",
            "9/9 [==============================] - 6s 566ms/step - loss: 1.0606 - accuracy: 0.4618 - val_loss: 1.1208 - val_accuracy: 0.3542\n",
            "Epoch 3/20\n",
            "9/9 [==============================] - 5s 496ms/step - loss: 1.0227 - accuracy: 0.4688 - val_loss: 1.0469 - val_accuracy: 0.4062\n",
            "Epoch 4/20\n",
            "9/9 [==============================] - 6s 669ms/step - loss: 0.9959 - accuracy: 0.5208 - val_loss: 0.9738 - val_accuracy: 0.5208\n",
            "Epoch 5/20\n",
            "9/9 [==============================] - 5s 508ms/step - loss: 0.9324 - accuracy: 0.5729 - val_loss: 0.8721 - val_accuracy: 0.5833\n",
            "Epoch 6/20\n",
            "9/9 [==============================] - 8s 838ms/step - loss: 0.9169 - accuracy: 0.6007 - val_loss: 0.8180 - val_accuracy: 0.7292\n",
            "Epoch 7/20\n",
            "9/9 [==============================] - 8s 834ms/step - loss: 0.7914 - accuracy: 0.6910 - val_loss: 0.7775 - val_accuracy: 0.6771\n",
            "Epoch 8/20\n",
            "9/9 [==============================] - 6s 535ms/step - loss: 0.7128 - accuracy: 0.6875 - val_loss: 0.6871 - val_accuracy: 0.7708\n",
            "Epoch 9/20\n",
            "9/9 [==============================] - 5s 514ms/step - loss: 0.6152 - accuracy: 0.7674 - val_loss: 0.6715 - val_accuracy: 0.6875\n",
            "Epoch 10/20\n",
            "9/9 [==============================] - 7s 681ms/step - loss: 0.5715 - accuracy: 0.7917 - val_loss: 0.5328 - val_accuracy: 0.7917\n",
            "Epoch 11/20\n",
            "9/9 [==============================] - 5s 503ms/step - loss: 0.5319 - accuracy: 0.7917 - val_loss: 0.5699 - val_accuracy: 0.8125\n",
            "Epoch 12/20\n",
            "9/9 [==============================] - 8s 836ms/step - loss: 0.4110 - accuracy: 0.8542 - val_loss: 0.3949 - val_accuracy: 0.8750\n",
            "Epoch 13/20\n",
            "9/9 [==============================] - 5s 501ms/step - loss: 0.2969 - accuracy: 0.8854 - val_loss: 0.2972 - val_accuracy: 0.9271\n",
            "Epoch 14/20\n",
            "9/9 [==============================] - 6s 593ms/step - loss: 0.2673 - accuracy: 0.9132 - val_loss: 0.2477 - val_accuracy: 0.9688\n",
            "Epoch 15/20\n",
            "9/9 [==============================] - 5s 501ms/step - loss: 0.2701 - accuracy: 0.8993 - val_loss: 0.2562 - val_accuracy: 0.9062\n",
            "Epoch 16/20\n",
            "9/9 [==============================] - 7s 682ms/step - loss: 0.2152 - accuracy: 0.9340 - val_loss: 0.1303 - val_accuracy: 0.9688\n",
            "Epoch 17/20\n",
            "9/9 [==============================] - 5s 509ms/step - loss: 0.1976 - accuracy: 0.9271 - val_loss: 0.1364 - val_accuracy: 0.9792\n",
            "Epoch 18/20\n",
            "9/9 [==============================] - 6s 605ms/step - loss: 0.1977 - accuracy: 0.9306 - val_loss: 0.1701 - val_accuracy: 0.9583\n",
            "Epoch 19/20\n",
            "9/9 [==============================] - 6s 519ms/step - loss: 0.1586 - accuracy: 0.9479 - val_loss: 0.1320 - val_accuracy: 0.9688\n",
            "Epoch 20/20\n",
            "9/9 [==============================] - 5s 529ms/step - loss: 0.1460 - accuracy: 0.9618 - val_loss: 0.1398 - val_accuracy: 0.9375\n"
          ]
        }
      ]
    },
    {
      "cell_type": "markdown",
      "source": [
        "# Evaluate the model"
      ],
      "metadata": {
        "id": "hy8Y6DkJ27Iz"
      },
      "id": "hy8Y6DkJ27Iz"
    },
    {
      "cell_type": "code",
      "execution_count": null,
      "metadata": {
        "id": "lIYdn1woOS1n",
        "colab": {
          "base_uri": "https://localhost:8080/"
        },
        "outputId": "cdbcfc46-b441-475f-8125-384fc4c821e0"
      },
      "outputs": [
        {
          "output_type": "stream",
          "name": "stdout",
          "text": [
            "train accuracy: 95.0%\n",
            "val accuracy: 97.0%\n",
            "test accuracy: 97.0%\n"
          ]
        }
      ],
      "source": [
        "print(f'train accuracy: {tf.round(model.evaluate(train, verbose=0)[1]*100,2)}%')\n",
        "print(f'val accuracy: {tf.round(model.evaluate(val, verbose=0)[1]*100,2)}%')\n",
        "print(f'test accuracy: {tf.round(model.evaluate(test, verbose=0)[1]*100,2)}%')"
      ],
      "id": "lIYdn1woOS1n"
    },
    {
      "cell_type": "code",
      "source": [
        "import seaborn as sns\n",
        "import matplotlib.pyplot as plt\n",
        "from sklearn.metrics import confusion_matrix"
      ],
      "metadata": {
        "id": "2cNyY8-VH4fa"
      },
      "execution_count": null,
      "outputs": [],
      "id": "2cNyY8-VH4fa"
    },
    {
      "cell_type": "code",
      "source": [
        "import tensorflow as tf\n",
        "\n",
        "# Create an empty list to store true labels and predicted labels\n",
        "true_labels = []\n",
        "predicted_labels = []\n",
        "\n",
        "# Iterate through the dataset and make predictions\n",
        "for batch in test:\n",
        "    inputs, true_batch_labels = batch  # Assuming your dataset provides both inputs and true labels\n",
        "    predictions = model(inputs, training=False)  # Make predictions using your model\n",
        "\n",
        "    # Convert the true_batch_labels tensor and predictions tensor to NumPy arrays\n",
        "    true_batch_labels = true_batch_labels.numpy()\n",
        "    predictions = predictions.numpy()\n",
        "\n",
        "    true_labels.extend(true_batch_labels)\n",
        "    predicted_labels.extend(tf.argmax(predictions, axis=1).numpy())\n",
        "true_labels = np.array([label for label in true_labels])\n",
        "true_labels = np.argmax(true_labels, axis=1)"
      ],
      "metadata": {
        "id": "wQVnPB-laYzd"
      },
      "execution_count": null,
      "outputs": [],
      "id": "wQVnPB-laYzd"
    },
    {
      "cell_type": "code",
      "source": [
        "cm = confusion_matrix(true_labels,predicted_labels)"
      ],
      "metadata": {
        "id": "l-4LC2Zxmzn7"
      },
      "execution_count": null,
      "outputs": [],
      "id": "l-4LC2Zxmzn7"
    },
    {
      "cell_type": "code",
      "source": [
        "def plot_confusion_matrix(cm, class_names):\n",
        "    plt.figure(figsize=(8, 6))\n",
        "    ax = sns.heatmap(cm, annot=True, fmt='d', cmap='Blues', cbar=False)\n",
        "\n",
        "    ax.set_xticklabels(class_names)\n",
        "    ax.set_yticklabels(class_names)\n",
        "\n",
        "    plt.xlabel('Predicted Labels')\n",
        "    plt.ylabel('True Labels')\n",
        "    plt.title('Confusion Matrix')\n",
        "\n",
        "    plt.show()"
      ],
      "metadata": {
        "id": "SHJULf2xmzlj"
      },
      "execution_count": null,
      "outputs": [],
      "id": "SHJULf2xmzlj"
    },
    {
      "cell_type": "code",
      "source": [
        "class_names = [ 'blue','Brown','Green']\n",
        "plot_confusion_matrix(cm, class_names)"
      ],
      "metadata": {
        "colab": {
          "base_uri": "https://localhost:8080/",
          "height": 564
        },
        "id": "mX_yW5Drmzg7",
        "outputId": "e4d6729d-3b6a-40ef-c3ba-8173718b2593"
      },
      "execution_count": null,
      "outputs": [
        {
          "output_type": "display_data",
          "data": {
            "text/plain": [
              "<Figure size 800x600 with 1 Axes>"
            ],
            "image/png": "[encoded data removed]"
          },
          "metadata": {}
        }
      ],
      "id": "mX_yW5Drmzg7"
    },
    {
      "cell_type": "markdown",
      "source": [
        "# Load the model"
      ],
      "metadata": {
        "id": "PMWNi6r42e_v"
      },
      "id": "PMWNi6r42e_v"
    },
    {
      "cell_type": "code",
      "source": [
        "from tensorflow.keras.models import load_model\n",
        "model.save(os.path.join('drive/MyDrive/Training/Save_models', 'Eye_color.h5'))"
      ],
      "metadata": {
        "id": "p0DyO5BIbu4K",
        "colab": {
          "base_uri": "https://localhost:8080/"
        },
        "outputId": "188bfcb3-4605-4076-dae2-52ff29302324"
      },
      "execution_count": null,
      "outputs": [
        {
          "output_type": "stream",
          "name": "stderr",
          "text": [
            "/usr/local/lib/python3.10/dist-packages/keras/src/engine/training.py:3000: UserWarning: You are saving your model as an HDF5 file via `model.save()`. This file format is considered legacy. We recommend using instead the native Keras format, e.g. `model.save('my_model.keras')`.\n",
            "  saving_api.save_model(\n"
          ]
        }
      ],
      "id": "p0DyO5BIbu4K"
    },
    {
      "cell_type": "code",
      "source": [],
      "metadata": {
        "id": "tZOYbqBosaUd"
      },
      "id": "tZOYbqBosaUd",
      "execution_count": null,
      "outputs": []
    }
  ],
  "metadata": {
    "kernelspec": {
      "display_name": "Python 3",
      "name": "python3"
    },
    "language_info": {
      "codemirror_mode": {
        "name": "ipython",
        "version": 3
      },
      "file_extension": ".py",
      "mimetype": "text/x-python",
      "name": "python",
      "nbconvert_exporter": "python",
      "pygments_lexer": "ipython3",
      "version": "3.9.13"
    },
    "colab": {
      "provenance": [],
      "gpuType": "T4"
    },
    "accelerator": "GPU"
  },
  "nbformat": 4,
  "nbformat_minor": 5
}